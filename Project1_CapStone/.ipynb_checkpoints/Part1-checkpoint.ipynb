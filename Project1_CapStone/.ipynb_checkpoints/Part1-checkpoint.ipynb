{
 "cells": [
  {
   "cell_type": "code",
   "execution_count": 13,
   "metadata": {},
   "outputs": [
    {
     "name": "stdout",
     "output_type": "stream",
     "text": [
      "input number1\n",
      "input number2\n",
      "input number3\n",
      "input number0\n",
      "6.0\n"
     ]
    }
   ],
   "source": [
    "# 1. จงเขียนโปรแกรมรับค่า Input จากผู้ใช้ ถ้าผู้ใช้ใส่ 0.0 จึงจะสิ้นสุดโปรแกรม คำนวณหาค่าเฉลี่ยของเลขทั้งหมดที่ผู้ใช้ใส่     และปริ้นค่าเฉลี่ยคูณด้วยจำนวนครั้งที่ใส่ทั้งหมด \n",
    "from functools import reduce\n",
    "cache = []\n",
    "while True:\n",
    "    val = float(input('input number'))\n",
    "    if val == 0: break\n",
    "    cache.append(val)\n",
    "_sum = reduce(lambda res,item : res + item,cache)\n",
    "\n",
    "res = (_sum/len(cache)) * len(cache)\n",
    "print(res)"
   ]
  },
  {
   "cell_type": "code",
   "execution_count": 41,
   "metadata": {},
   "outputs": [
    {
     "name": "stdout",
     "output_type": "stream",
     "text": [
      "insert min number100\n",
      "insert max number200\n",
      "divide number:\n",
      "[1, 2, 3, 5, 7, 11, 13]\n",
      "prime number of 100 to 200\n",
      "[101, 103, 107, 109, 113, 127, 131, 137, 139, 149, 151, 157, 163, 167, 173, 179, 181, 191, 193, 197, 199]\n"
     ]
    }
   ],
   "source": [
    "# 2. จงเขียนโปรแกรมให้ผู้ใช้ใส่เลข ขอบเขตล่าง และ ขอบเขตบน และคำนวณหาเลขจำนวนเฉพาะ (Prime Number) ที่อยู่ระหว่างขอบเขตล่างและขอบเขตบน\n",
    "\n",
    "# expect numner\n",
    "# p =  div numner (as prime number but not p**2 <= expectnumber)\n",
    "#plist is prime number list for deviding expect number\n",
    "\n",
    "def isPrime(x,pbList):\n",
    "    nCount= 0\n",
    "    for i in pbList:\n",
    "        if  i > x:\n",
    "            break\n",
    "        elif i**2 > x:\n",
    "            break\n",
    "        elif (x%i) == 0: \n",
    "            nCount = nCount+1\n",
    "    return nCount==1\n",
    "\n",
    "#find base number for deviding\n",
    "def makeDivList(maxVal):\n",
    "    res = [1]\n",
    "    for i in range(2,maxVal+1):\n",
    "        if isPrime(i,res):\n",
    "            if i**2 > maxVal:\n",
    "                break\n",
    "            res.append(i)\n",
    "    return res\n",
    "        \n",
    "# find Check Preime during min and max val\n",
    "def getPrimeNumber(mn,mx):\n",
    "    res = []\n",
    "    divList = makeDivList(mx)\n",
    "    print('divide number:')\n",
    "    print(divList)\n",
    "    for i in range(mn,mx+1):\n",
    "        if isPrime(i,divList): \n",
    "            res.append(i)\n",
    "    return res\n",
    "\n",
    "\n",
    "        \n",
    "        \n",
    "minVal = int(input('insert min number'))\n",
    "maxVal = int(input('insert max number'))\n",
    "# res = makeDivList(maxVal)\n",
    "res = getPrimeNumber(minVal,maxVal)\n",
    "print('prime number of {0} to {1}'.format(minVal,maxVal))\n",
    "print(res)"
   ]
  }
 ],
 "metadata": {
  "kernelspec": {
   "display_name": "Python 3",
   "language": "python",
   "name": "python3"
  },
  "language_info": {
   "codemirror_mode": {
    "name": "ipython",
    "version": 3
   },
   "file_extension": ".py",
   "mimetype": "text/x-python",
   "name": "python",
   "nbconvert_exporter": "python",
   "pygments_lexer": "ipython3",
   "version": "3.8.3"
  }
 },
 "nbformat": 4,
 "nbformat_minor": 4
}
