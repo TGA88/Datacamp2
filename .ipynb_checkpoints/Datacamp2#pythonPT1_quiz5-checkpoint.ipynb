{
 "cells": [
  {
   "cell_type": "code",
   "execution_count": 4,
   "metadata": {},
   "outputs": [
    {
     "name": "stdout",
     "output_type": "stream",
     "text": [
      "<map object at 0x7f80ac3dd280>\n",
      "[1, 8, 27, 64, 125, 216, 343, 512, 729, 1000]\n",
      "[1, 8, 27, 64, 125, 216, 343, 512, 729, 1000]\n"
     ]
    }
   ],
   "source": [
    "#1 \n",
    "#map with lambda function\n",
    "lst = [1,2,3,4,5,6,7,8,9,10]\n",
    "lambdaLst = map(lambda item: item**3,lst);\n",
    "print(lambdaLst)\n",
    "print(list(lambdaLst))\n",
    "\n",
    "# map with named function\n",
    "def power3(item):\n",
    "    return item**3\n",
    "nameFuncLst = map(power3,lst)\n",
    "print(list(nameFuncLst))\n",
    "\n"
   ]
  },
  {
   "cell_type": "code",
   "execution_count": 9,
   "metadata": {},
   "outputs": [
    {
     "name": "stdout",
     "output_type": "stream",
     "text": [
      "[1, 3, 5, 7, 9]\n",
      "[1, 3, 5, 7, 9]\n"
     ]
    }
   ],
   "source": [
    "#2\n",
    "#lambda style\n",
    "lambdaFilter = filter(lambda item: (item**2)%2 > 0,lst)\n",
    "print(list(lambdaFilter))\n",
    "\n",
    "#named function style\n",
    "def modMoreZero(item):\n",
    "    return (item**2)%2 > 0\n",
    "namedFilter = filter(modMoreZero,lst)\n",
    "print(list(namedFilter))"
   ]
  }
 ],
 "metadata": {
  "kernelspec": {
   "display_name": "Python 3",
   "language": "python",
   "name": "python3"
  },
  "language_info": {
   "codemirror_mode": {
    "name": "ipython",
    "version": 3
   },
   "file_extension": ".py",
   "mimetype": "text/x-python",
   "name": "python",
   "nbconvert_exporter": "python",
   "pygments_lexer": "ipython3",
   "version": "3.8.3"
  }
 },
 "nbformat": 4,
 "nbformat_minor": 4
}
