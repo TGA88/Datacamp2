{
 "cells": [
  {
   "cell_type": "code",
   "execution_count": 2,
   "metadata": {},
   "outputs": [
    {
     "name": "stdout",
     "output_type": "stream",
     "text": [
      "[2, 9, 1, 81, 32]\n"
     ]
    }
   ],
   "source": [
    "#1 Map with multiple list\n",
    "A= [1,2,3,4,5]\n",
    "B=[2,3,1,3,2]\n",
    "res = map(lambda itemA,itemB: itemB ** itemA,A,B)\n",
    "print(list(res))"
   ]
  },
  {
   "cell_type": "code",
   "execution_count": 15,
   "metadata": {},
   "outputs": [
    {
     "name": "stdout",
     "output_type": "stream",
     "text": [
      "[(1, 'best', 70), (2, 'ymg', 60), (3, 'penguin', 50)]\n"
     ]
    }
   ],
   "source": [
    "#2 Zip\n",
    "names = ['best','ymg','penguin']\n",
    "numbers = [1,2,3]\n",
    "scores = [70,60,50]\n",
    "\n",
    "resZip = zip(numbers,names,scores)\n",
    "print(list(resZip))\n"
   ]
  }
 ],
 "metadata": {
  "kernelspec": {
   "display_name": "Python 3",
   "language": "python",
   "name": "python3"
  },
  "language_info": {
   "codemirror_mode": {
    "name": "ipython",
    "version": 3
   },
   "file_extension": ".py",
   "mimetype": "text/x-python",
   "name": "python",
   "nbconvert_exporter": "python",
   "pygments_lexer": "ipython3",
   "version": "3.8.3"
  }
 },
 "nbformat": 4,
 "nbformat_minor": 4
}
