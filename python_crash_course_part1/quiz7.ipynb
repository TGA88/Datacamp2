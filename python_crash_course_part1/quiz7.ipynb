{
 "cells": [
  {
   "cell_type": "code",
   "execution_count": 6,
   "metadata": {},
   "outputs": [
    {
     "name": "stdout",
     "output_type": "stream",
     "text": [
      "unknow because your Question does not define in case score is equal 50\n"
     ]
    }
   ],
   "source": [
    "def evalGrade(score):\n",
    "    if score >80:\n",
    "        return 'A'\n",
    "    elif score > 70:\n",
    "        return 'B'\n",
    "    elif score >60:\n",
    "        return 'C'\n",
    "    elif score >50:\n",
    "        return 'D'\n",
    "    elif score <50:\n",
    "        return 'F'\n",
    "    else:\n",
    "        return'unknow because your Question does not define in case score is equal 50'\n",
    "print (evalGrade(50))"
   ]
  }
 ],
 "metadata": {
  "kernelspec": {
   "display_name": "Python 3",
   "language": "python",
   "name": "python3"
  },
  "language_info": {
   "codemirror_mode": {
    "name": "ipython",
    "version": 3
   },
   "file_extension": ".py",
   "mimetype": "text/x-python",
   "name": "python",
   "nbconvert_exporter": "python",
   "pygments_lexer": "ipython3",
   "version": "3.8.3"
  }
 },
 "nbformat": 4,
 "nbformat_minor": 4
}
