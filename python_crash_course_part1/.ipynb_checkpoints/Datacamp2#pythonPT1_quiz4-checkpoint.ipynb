{
 "cells": [
  {
   "cell_type": "markdown",
   "metadata": {},
   "source": []
  },
  {
   "cell_type": "code",
   "execution_count": 1,
   "metadata": {},
   "outputs": [
    {
     "name": "stdout",
     "output_type": "stream",
     "text": [
      "6\n"
     ]
    }
   ],
   "source": [
    "#1 expect answer is 6\n",
    "a= [[[1,3],[3,4]],[5,[5,6],[7,8]]]\n",
    "print (a[1][1][1])"
   ]
  },
  {
   "cell_type": "code",
   "execution_count": 2,
   "metadata": {},
   "outputs": [
    {
     "name": "stdout",
     "output_type": "stream",
     "text": [
      "[['best', 'thomas', 36], ['penguin', 'amata', 35], ['ymg', 'amata', 30], ['toshi', 'nhongnhong', 3]]\n"
     ]
    }
   ],
   "source": [
    "#2\n",
    "p1 = ['best','thomas',36]\n",
    "p2 =['penguin','amata',35]\n",
    "p3 =['ymg','amata',30]\n",
    "p4 =['toshi','nhongnhong',3]\n",
    "persons = [p1,p2,p3,p4]\n",
    "print(persons)"
   ]
  },
  {
   "cell_type": "code",
   "execution_count": 3,
   "metadata": {},
   "outputs": [
    {
     "name": "stdout",
     "output_type": "stream",
     "text": [
      "[['best', 'thomas', 36], ['penguin', 'amata', 35], ['ymg', 'amata', 30]]\n"
     ]
    }
   ],
   "source": [
    "#3 remove last person out of the list\n",
    "del persons[3]\n",
    "print(persons)"
   ]
  },
  {
   "cell_type": "code",
   "execution_count": 4,
   "metadata": {},
   "outputs": [
    {
     "name": "stdout",
     "output_type": "stream",
     "text": [
      "[['bank', 'Thomas', 42], ['best', 'thomas', 36], ['penguin', 'amata', 35], ['ymg', 'amata', 30]]\n"
     ]
    }
   ],
   "source": [
    "#4\n",
    "p5 = ['bank','Thomas',42]\n",
    "persons.insert(0,p5)\n",
    "print(persons)"
   ]
  },
  {
   "cell_type": "code",
   "execution_count": 5,
   "metadata": {},
   "outputs": [
    {
     "name": "stdout",
     "output_type": "stream",
     "text": [
      "[['bank', 'Thomas', 42], ['best', 'thomas', 46], ['penguin', 'amata', 35], ['ymg', 'amata', 30]]\n"
     ]
    }
   ],
   "source": [
    "#5\n",
    "persons[1][2]= persons[1][2]+10\n",
    "print(persons)"
   ]
  }
 ],
 "metadata": {
  "kernelspec": {
   "display_name": "Python 3",
   "language": "python",
   "name": "python3"
  },
  "language_info": {
   "codemirror_mode": {
    "name": "ipython",
    "version": 3
   },
   "file_extension": ".py",
   "mimetype": "text/x-python",
   "name": "python",
   "nbconvert_exporter": "python",
   "pygments_lexer": "ipython3",
   "version": "3.8.3"
  }
 },
 "nbformat": 4,
 "nbformat_minor": 4
}
