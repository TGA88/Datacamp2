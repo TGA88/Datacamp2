{
 "cells": [
  {
   "cell_type": "markdown",
   "metadata": {},
   "source": []
  },
  {
   "cell_type": "code",
   "execution_count": 1,
   "metadata": {},
   "outputs": [
    {
     "name": "stdout",
     "output_type": "stream",
     "text": [
      "['best', 'Thomas', 36]\n"
     ]
    }
   ],
   "source": [
    "infos = ['best','Thomas',36]\n",
    "print(infos)"
   ]
  },
  {
   "cell_type": "code",
   "execution_count": 2,
   "metadata": {},
   "outputs": [
    {
     "name": "stdout",
     "output_type": "stream",
     "text": [
      "['best', 'Thomas']\n"
     ]
    }
   ],
   "source": [
    "#remove age\n",
    "del infos[2]\n",
    "print(infos)"
   ]
  },
  {
   "cell_type": "code",
   "execution_count": 3,
   "metadata": {},
   "outputs": [
    {
     "name": "stdout",
     "output_type": "stream",
     "text": [
      "[26, 'best', 'Thomas']\n"
     ]
    }
   ],
   "source": [
    "#insert to age to fitst index\n",
    "infos.insert(0,26)\n",
    "print(infos)"
   ]
  },
  {
   "cell_type": "code",
   "execution_count": 4,
   "metadata": {},
   "outputs": [
    {
     "name": "stdout",
     "output_type": "stream",
     "text": [
      "[26, 'best', 'Thomas', 168, 74]\n"
     ]
    }
   ],
   "source": [
    "# append height and weight \n",
    "infos.append(168)\n",
    "infos.append(74)\n",
    "print(infos)\n"
   ]
  },
  {
   "cell_type": "code",
   "execution_count": 6,
   "metadata": {},
   "outputs": [
    {
     "name": "stdout",
     "output_type": "stream",
     "text": [
      "[168, 74]\n"
     ]
    }
   ],
   "source": [
    "#print List's item starting at index 3 to end\n",
    "print(infos[3:])"
   ]
  }
 ],
 "metadata": {
  "kernelspec": {
   "display_name": "Python 3",
   "language": "python",
   "name": "python3"
  },
  "language_info": {
   "codemirror_mode": {
    "name": "ipython",
    "version": 3
   },
   "file_extension": ".py",
   "mimetype": "text/x-python",
   "name": "python",
   "nbconvert_exporter": "python",
   "pygments_lexer": "ipython3",
   "version": "3.8.3"
  }
 },
 "nbformat": 4,
 "nbformat_minor": 4
}
