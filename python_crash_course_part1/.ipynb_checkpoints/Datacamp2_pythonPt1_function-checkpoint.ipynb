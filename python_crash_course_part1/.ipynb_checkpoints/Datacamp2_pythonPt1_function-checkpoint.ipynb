{
 "cells": [
  {
   "cell_type": "code",
   "execution_count": 16,
   "metadata": {},
   "outputs": [],
   "source": [
    "displayname = lambda name,lastname : print('hello {} {}'.format(name,lastname))"
   ]
  },
  {
   "cell_type": "code",
   "execution_count": 19,
   "metadata": {},
   "outputs": [
    {
     "name": "stdout",
     "output_type": "stream",
     "text": [
      "hello best Thomas\n"
     ]
    }
   ],
   "source": [
    "displayname('best','Thomas')"
   ]
  },
  {
   "cell_type": "code",
   "execution_count": 26,
   "metadata": {},
   "outputs": [
    {
     "name": "stdout",
     "output_type": "stream",
     "text": [
      "dispaly fullname best Thomas\n"
     ]
    }
   ],
   "source": [
    "# shortcut for calling lambda function immediately (inline execute)\n",
    "output = (lambda name,lastname:print('dispaly fullname {} {}'.format(name,lastname)))('best','Thomas')"
   ]
  },
  {
   "cell_type": "code",
   "execution_count": 32,
   "metadata": {},
   "outputs": [
    {
     "name": "stdout",
     "output_type": "stream",
     "text": [
      "result(x>0) = 9\n",
      "result(x=0) = -6\n"
     ]
    }
   ],
   "source": [
    "#lambda with condition\n",
    "func1 = lambda x,y,z: x+y+z if x>0 else x-y-z\n",
    "print('result(x>0) = {}'.format(func1(3,3,3)))\n",
    "\n",
    "print('result(x=0) = {}'.format(func1(0,3,3)))"
   ]
  },
  {
   "cell_type": "code",
   "execution_count": null,
   "metadata": {},
   "outputs": [],
   "source": []
  },
  {
   "cell_type": "code",
   "execution_count": null,
   "metadata": {},
   "outputs": [],
   "source": []
  }
 ],
 "metadata": {
  "kernelspec": {
   "display_name": "Python 3",
   "language": "python",
   "name": "python3"
  },
  "language_info": {
   "codemirror_mode": {
    "name": "ipython",
    "version": 3
   },
   "file_extension": ".py",
   "mimetype": "text/x-python",
   "name": "python",
   "nbconvert_exporter": "python",
   "pygments_lexer": "ipython3",
   "version": "3.8.3"
  }
 },
 "nbformat": 4,
 "nbformat_minor": 4
}
