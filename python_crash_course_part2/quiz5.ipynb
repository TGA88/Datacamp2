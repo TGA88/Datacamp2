{
 "cells": [
  {
   "cell_type": "code",
   "execution_count": 4,
   "metadata": {},
   "outputs": [
    {
     "name": "stdout",
     "output_type": "stream",
     "text": [
      "input number19\n",
      "input number212\n",
      "input number315\n",
      "it is triangle\n"
     ]
    }
   ],
   "source": [
    "#5\n",
    "val1 = int(input('input number1'))\n",
    "val2 = int(input('input number2'))\n",
    "val3 = int(input('input number3'))\n",
    "\n",
    "canTriangle = lambda a,b,c: (a**2)+(b**2)==c**2\n",
    "#สามเหลี่ยนมุมฉาก c^2 = a^2+b^2\n",
    "\n",
    "    \n",
    "if canTriangle(val1,val2,val3):\n",
    "    print('it is triangle')\n",
    "else:print('it is not triangle')\n",
    "\n"
   ]
  }
 ],
 "metadata": {
  "kernelspec": {
   "display_name": "Python 3",
   "language": "python",
   "name": "python3"
  },
  "language_info": {
   "codemirror_mode": {
    "name": "ipython",
    "version": 3
   },
   "file_extension": ".py",
   "mimetype": "text/x-python",
   "name": "python",
   "nbconvert_exporter": "python",
   "pygments_lexer": "ipython3",
   "version": "3.8.3"
  }
 },
 "nbformat": 4,
 "nbformat_minor": 4
}
