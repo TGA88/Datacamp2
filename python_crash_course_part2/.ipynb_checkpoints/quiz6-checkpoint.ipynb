{
 "cells": [
  {
   "cell_type": "code",
   "execution_count": 2,
   "metadata": {},
   "outputs": [
    {
     "name": "stdout",
     "output_type": "stream",
     "text": [
      "input number 16\n",
      "input number 212\n",
      "input number 315\n",
      "สามเหลี่ยมมุมป้าน\n"
     ]
    }
   ],
   "source": [
    "#สามเหลี่ยนมุมฉาก c^2 = a^2+b^2\n",
    "Triangle1 = lambda a,b,c: (a**2)+(b**2)==c**2\n",
    "\n",
    "#สามเหลี่ยมมุมแหลม c^2 < a^2+b^2\n",
    "Triangle2 = lambda a,b,c: (a**2)+(b**2)>c**2\n",
    "\n",
    "#สามเหลี่ยมมุมป้าน c^2 > a^2+b^2\n",
    "Triangle3 = lambda a,b,c: (a**2)+(b**2) < c**2\n",
    "\n",
    "val1 = int(input('input number 1'))\n",
    "\n",
    "val2 = int(input('input number 2'))\n",
    "\n",
    "val3 = int(input('input number 3'))\n",
    "\n",
    "if Triangle1(val1,val2,val3):\n",
    "    print('สามเหลี่ยมมุมฉาก')\n",
    "elif Triangle2(val1,val2,val3):\n",
    "    print('สามเหลี่ยมมุมแหลม')\n",
    "elif Triangle3(val1,val2,val3):\n",
    "    print('สามเหลี่ยมมุมป้าน')\n",
    "else:\n",
    "    print('unknow')\n",
    "    \n"
   ]
  }
 ],
 "metadata": {
  "kernelspec": {
   "display_name": "Python 3",
   "language": "python",
   "name": "python3"
  },
  "language_info": {
   "codemirror_mode": {
    "name": "ipython",
    "version": 3
   },
   "file_extension": ".py",
   "mimetype": "text/x-python",
   "name": "python",
   "nbconvert_exporter": "python",
   "pygments_lexer": "ipython3",
   "version": "3.8.3"
  }
 },
 "nbformat": 4,
 "nbformat_minor": 4
}
