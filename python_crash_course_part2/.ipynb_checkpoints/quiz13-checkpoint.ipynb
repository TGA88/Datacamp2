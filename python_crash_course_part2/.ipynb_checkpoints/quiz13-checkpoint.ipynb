{
 "cells": [
  {
   "cell_type": "code",
   "execution_count": 1,
   "metadata": {},
   "outputs": [],
   "source": [
    "# 13. เขียนโปรแกรมรับ input สองตัวเป็นจำนวนเต็มระหว่าง 0-60 โดยตัว\n",
    "# แรกเป็นชั่วโมงและตัวที่สองเป็นนาที คำนวณค่าที่จอดรถถ้าชั่วโมงละ\n",
    "# 150 บาท เศษนาทีคิดเป็นนาทีละ 2 บาท"
   ]
  },
  {
   "cell_type": "code",
   "execution_count": 4,
   "metadata": {},
   "outputs": [
    {
     "name": "stdout",
     "output_type": "stream",
     "text": [
      "จำนวนชั่วโมง10\n",
      "จำนวนนาที30\n",
      "amount 1560\n"
     ]
    }
   ],
   "source": [
    "p1 = int(input('จำนวนชั่วโมง'))\n",
    "p2 = int(input ('จำนวนนาที'))\n",
    "\n",
    "net = lambda h,m: (h*150) + (m*2)\n",
    "\n",
    "netPrice = net(p1,p2)\n",
    "print('amount {}'.format(netPrice))"
   ]
  },
  {
   "cell_type": "code",
   "execution_count": null,
   "metadata": {},
   "outputs": [],
   "source": []
  }
 ],
 "metadata": {
  "kernelspec": {
   "display_name": "Python 3",
   "language": "python",
   "name": "python3"
  },
  "language_info": {
   "codemirror_mode": {
    "name": "ipython",
    "version": 3
   },
   "file_extension": ".py",
   "mimetype": "text/x-python",
   "name": "python",
   "nbconvert_exporter": "python",
   "pygments_lexer": "ipython3",
   "version": "3.8.3"
  }
 },
 "nbformat": 4,
 "nbformat_minor": 4
}
