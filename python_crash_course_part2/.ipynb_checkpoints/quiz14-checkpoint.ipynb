{
 "cells": [
  {
   "cell_type": "code",
   "execution_count": null,
   "metadata": {},
   "outputs": [],
   "source": [
    "# 14. เขียนโปรแกรมรับ input สองตัวเป็นจำนวนเต็มระหว่าง 0-60 โดยตัว\n",
    "# แรกเป็นชั่วโมงและตัวที่สองเป็นนาที คำนวณค่าที่จอดรถถ้าชั่วโมงละ\n",
    "# 300 บาท เศษนาทีเกิน 15 นาทีคิดเป็นหนึ่งชั่วโมง หากไม่เกินไม่คิดเงิน\n",
    "# และชั่วโมงแรกจอดฟรี"
   ]
  },
  {
   "cell_type": "code",
   "execution_count": 8,
   "metadata": {},
   "outputs": [
    {
     "name": "stdout",
     "output_type": "stream",
     "text": [
      "จำนวนชั่วโมง0\n",
      "จำนวนนาที16\n",
      "amount 0\n"
     ]
    }
   ],
   "source": [
    "p1 = int(input('จำนวนชั่วโมง'))\n",
    "p2 = int(input ('จำนวนนาที'))\n",
    "\n",
    "extraHour = lambda m: 1 if m>15 else 0\n",
    "\n",
    "netHour = (p1+extraHour(p2)) - 1\n",
    "\n",
    "net = lambda h: h*300 if h > 0 else 0\n",
    "\n",
    "netPrice = net(netHour)\n",
    "print('amount {}'.format(netPrice))"
   ]
  },
  {
   "cell_type": "code",
   "execution_count": null,
   "metadata": {},
   "outputs": [],
   "source": []
  }
 ],
 "metadata": {
  "kernelspec": {
   "display_name": "Python 3",
   "language": "python",
   "name": "python3"
  },
  "language_info": {
   "codemirror_mode": {
    "name": "ipython",
    "version": 3
   },
   "file_extension": ".py",
   "mimetype": "text/x-python",
   "name": "python",
   "nbconvert_exporter": "python",
   "pygments_lexer": "ipython3",
   "version": "3.8.3"
  }
 },
 "nbformat": 4,
 "nbformat_minor": 4
}
