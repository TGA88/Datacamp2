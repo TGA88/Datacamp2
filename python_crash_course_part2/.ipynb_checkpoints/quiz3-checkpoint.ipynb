{
 "cells": [
  {
   "cell_type": "code",
   "execution_count": 1,
   "metadata": {},
   "outputs": [],
   "source": [
    "from functools import reduce\n",
    "\n",
    "#3\n",
    "nums = []\n",
    "_notExit = True\n",
    "def average(items):\n",
    "    _sum = reduce(lambda res,item: res+item,items)\n",
    "    return _sum/len(items)\n",
    "    "
   ]
  },
  {
   "cell_type": "code",
   "execution_count": 2,
   "metadata": {},
   "outputs": [
    {
     "name": "stdout",
     "output_type": "stream",
     "text": [
      "input a number1\n",
      "input a number2\n",
      "input a number3\n",
      "input a number4\n",
      "input a number0\n",
      "2.5\n"
     ]
    }
   ],
   "source": [
    "while _notExit:\n",
    "    val = int(input('input a number'))\n",
    "   \n",
    "    _notExit =  not(val == 0)\n",
    "    if _notExit:\n",
    "        nums.append(val)\n",
    "    \n",
    "print(average(nums))\n",
    "    \n",
    "    "
   ]
  }
 ],
 "metadata": {
  "kernelspec": {
   "display_name": "Python 3",
   "language": "python",
   "name": "python3"
  },
  "language_info": {
   "codemirror_mode": {
    "name": "ipython",
    "version": 3
   },
   "file_extension": ".py",
   "mimetype": "text/x-python",
   "name": "python",
   "nbconvert_exporter": "python",
   "pygments_lexer": "ipython3",
   "version": "3.8.3"
  }
 },
 "nbformat": 4,
 "nbformat_minor": 4
}
