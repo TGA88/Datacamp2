{
 "cells": [
  {
   "cell_type": "code",
   "execution_count": 23,
   "metadata": {},
   "outputs": [
    {
     "name": "stdout",
     "output_type": "stream",
     "text": [
      "please input numbera\n",
      "input must be a number\n"
     ]
    }
   ],
   "source": [
    "isOdd = lambda inval: inval%2 >0\n",
    "\n",
    "try:\n",
    "    val= int(input('please input number'))\n",
    "    if val == 0:\n",
    "        print('is zero')\n",
    "    elif isOdd(val) == True:\n",
    "        print('is Odd number')\n",
    "    else:\n",
    "        print('is Even number')\n",
    "except ValueError:\n",
    "    print( 'input must be a number')\n"
   ]
  },
  {
   "cell_type": "code",
   "execution_count": null,
   "metadata": {},
   "outputs": [],
   "source": []
  },
  {
   "cell_type": "code",
   "execution_count": null,
   "metadata": {},
   "outputs": [],
   "source": []
  }
 ],
 "metadata": {
  "kernelspec": {
   "display_name": "Python 3",
   "language": "python",
   "name": "python3"
  },
  "language_info": {
   "codemirror_mode": {
    "name": "ipython",
    "version": 3
   },
   "file_extension": ".py",
   "mimetype": "text/x-python",
   "name": "python",
   "nbconvert_exporter": "python",
   "pygments_lexer": "ipython3",
   "version": "3.8.3"
  }
 },
 "nbformat": 4,
 "nbformat_minor": 4
}
