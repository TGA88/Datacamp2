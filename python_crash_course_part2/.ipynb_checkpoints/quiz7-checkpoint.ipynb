{
 "cells": [
  {
   "cell_type": "code",
   "execution_count": 1,
   "metadata": {},
   "outputs": [],
   "source": [
    "#7\n",
    "def validateInput(val):\n",
    "    while True:\n",
    "        if val <1000 or val >5000:\n",
    "            val = float(input('ราคาจะต้องอยู่ในช่วง 1000-5000: '))\n",
    "            continue\n",
    "        break\n",
    "    return val\n",
    "def discount(val):\n",
    "    dis = 0\n",
    "    if  val > 12000:\n",
    "        dis =0.25    \n",
    "    elif val > 6000:\n",
    "        dis=0.15\n",
    "    print('discount : {}% , amount: {}'.format(dis*100,val*dis))\n",
    "    return val * dis\n",
    "\n",
    "Net = lambda price,discount: price-discount\n",
    "        \n",
    "def makeInput(fn):\n",
    "    def validInput(index):\n",
    "        val = float(input('price {}:'.format(index)))\n",
    "        return fn(val)\n",
    "    return validInput"
   ]
  },
  {
   "cell_type": "code",
   "execution_count": 3,
   "metadata": {},
   "outputs": [
    {
     "name": "stdout",
     "output_type": "stream",
     "text": [
      "price 1:1000\n",
      "price 2:5000\n",
      "price 3:1000\n",
      "total amount:7000.0\n",
      "discount : 15.0% , amount: 1050.0\n",
      "netamount : 5950.0\n"
     ]
    }
   ],
   "source": [
    "validator = makeInput(validateInput)\n",
    "p1 = validator(1)\n",
    "p2 = validator(2)\n",
    "p3 = validator(3)\n",
    "\n",
    "amount = p1+p2+p3\n",
    "\n",
    "print('total amount:{}'.format(amount))\n",
    "net = Net(amount,discount(amount))\n",
    "print('netamount : {}'.format(net))"
   ]
  }
 ],
 "metadata": {
  "kernelspec": {
   "display_name": "Python 3",
   "language": "python",
   "name": "python3"
  },
  "language_info": {
   "codemirror_mode": {
    "name": "ipython",
    "version": 3
   },
   "file_extension": ".py",
   "mimetype": "text/x-python",
   "name": "python",
   "nbconvert_exporter": "python",
   "pygments_lexer": "ipython3",
   "version": "3.8.3"
  }
 },
 "nbformat": 4,
 "nbformat_minor": 4
}
