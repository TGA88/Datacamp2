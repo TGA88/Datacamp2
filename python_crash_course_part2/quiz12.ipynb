{
 "cells": [
  {
   "cell_type": "code",
   "execution_count": 3,
   "metadata": {},
   "outputs": [],
   "source": [
    "# เขียนโปรแกรมรับ input 4 ตัวที่เป็น string จากนั้นตรวจสอบว่า\n",
    "# input ใดมีความยาวมากที่สุด รองลงมา และน้อยที่สุด จากนั้น ปริ้นแต่ละ\n",
    "# input ออกมาตามลำดับน้อยสุดไปมากสุด"
   ]
  },
  {
   "cell_type": "code",
   "execution_count": 4,
   "metadata": {},
   "outputs": [],
   "source": [
    "def getInput(index):\n",
    "        val = input('กรุณา ป้อนข้อความ {}'.format(index))\n",
    "        return val"
   ]
  },
  {
   "cell_type": "code",
   "execution_count": 5,
   "metadata": {},
   "outputs": [
    {
     "name": "stdout",
     "output_type": "stream",
     "text": [
      "กรุณา ป้อนข้อความ 11234567\n",
      "กรุณา ป้อนข้อความ 2123\n",
      "กรุณา ป้อนข้อความ 312345678\n",
      "กรุณา ป้อนข้อความ 41234567890\n",
      "['123', '1234567', '12345678', '1234567890']\n"
     ]
    }
   ],
   "source": [
    "p1 = getInput(1)\n",
    "p2 = getInput(2)\n",
    "p3 = getInput(3)\n",
    "p4 = getInput(4)\n",
    "\n",
    "pList = [p1,p2,p3,p4]\n",
    "\n",
    "sortedList = sorted(pList,key=len)\n",
    "\n",
    "print(sortedList)\n",
    "\n",
    "\n"
   ]
  },
  {
   "cell_type": "code",
   "execution_count": null,
   "metadata": {},
   "outputs": [],
   "source": []
  }
 ],
 "metadata": {
  "language_info": {
   "codemirror_mode": {
    "name": "ipython",
    "version": 3
   },
   "file_extension": ".py",
   "mimetype": "text/x-python",
   "name": "python",
   "nbconvert_exporter": "python",
   "pygments_lexer": "ipython3",
   "version": "3.8.3"
  }
 },
 "nbformat": 4,
 "nbformat_minor": 4
}
