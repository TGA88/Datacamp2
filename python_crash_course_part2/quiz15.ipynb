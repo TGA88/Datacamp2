{
 "cells": [
  {
   "cell_type": "code",
   "execution_count": 1,
   "metadata": {},
   "outputs": [],
   "source": [
    "# 15. โรงละครสัตว์มีนก กับ วัว และต้องจ่ายภาษีสัตว์ 2 ขา 150 บาทต่อตัว\n",
    "# จ่ายภาษีสัตว์ 4 ขา 220 บาทต่อตัว เขียนโปรแกรมรับค่า input สองตัว\n",
    "# ตัวแรกเป็นผลรวมจำนวนหัวของสัตว์ ตัวสองเป็นผลรวมจำนวนขาของ\n",
    "# สัตว์ จงหาว่าโรงละครสัตว์ต้องจ่ายภาษีเท่าใด"
   ]
  },
  {
   "cell_type": "code",
   "execution_count": 2,
   "metadata": {},
   "outputs": [],
   "source": [
    "\n",
    "def calTax(p1,p2):\n",
    "    bird =0\n",
    "    cow = 0\n",
    "    birdLeg=0\n",
    "    cowLeg=0\n",
    "    totLeg=0\n",
    "\n",
    "    if (p1*4 < p2) and (p1*2 < p2):\n",
    "        print('จำนวนขา และ หัวไม่สัมพันธ์กัน')\n",
    "    else:\n",
    "        bird = int(((p1*4)-p2)/2)\n",
    "        cow = p1-bird\n",
    "        birdLeg = bird*2\n",
    "        cowLeg = cow*4\n",
    "        totLeg= birdLeg+cowLeg\n",
    "\n",
    "    print('total bird:{} , legs:{}'.format(bird,bird*2))\n",
    "    print('total cow:{} , legs:{}'.format(cow,cow*4))\n",
    "    if totLeg != p2:\n",
    "        print('ไม่สามารถคำนวณได้')\n",
    "    else:\n",
    "        tax = (cow * 220) + (bird * 150)\n",
    "        print('tax is {}'.format(tax))"
   ]
  },
  {
   "cell_type": "code",
   "execution_count": 3,
   "metadata": {},
   "outputs": [
    {
     "name": "stdout",
     "output_type": "stream",
     "text": [
      "จำนวนหัว3\n",
      "จำนวนขาทั้งหมด5\n",
      "total bird:3 , legs:6\n",
      "total cow:0 , legs:0\n",
      "ไม่สามารถคำนวณได้\n"
     ]
    }
   ],
   "source": [
    "heads = int(input('จำนวนหัว'))\n",
    "legs = int(input('จำนวนขาทั้งหมด'))\n",
    "calTax(heads,legs)\n",
    "\n",
    "        "
   ]
  },
  {
   "cell_type": "code",
   "execution_count": null,
   "metadata": {},
   "outputs": [],
   "source": []
  }
 ],
 "metadata": {
  "kernelspec": {
   "display_name": "Python 3",
   "language": "python",
   "name": "python3"
  },
  "language_info": {
   "codemirror_mode": {
    "name": "ipython",
    "version": 3
   },
   "file_extension": ".py",
   "mimetype": "text/x-python",
   "name": "python",
   "nbconvert_exporter": "python",
   "pygments_lexer": "ipython3",
   "version": "3.8.3"
  }
 },
 "nbformat": 4,
 "nbformat_minor": 4
}
