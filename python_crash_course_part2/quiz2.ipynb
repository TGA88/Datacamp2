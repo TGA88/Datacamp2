{
 "cells": [
  {
   "cell_type": "code",
   "execution_count": 1,
   "metadata": {},
   "outputs": [],
   "source": [
    "def isFloat(i):\n",
    "    try:\n",
    "        float(i)\n",
    "        return True\n",
    "    except ValueError:\n",
    "        return False"
   ]
  },
  {
   "cell_type": "code",
   "execution_count": 2,
   "metadata": {},
   "outputs": [],
   "source": [
    "def isZero(val):\n",
    "    if (val != '0' and val !=0):\n",
    "        return False\n",
    "    return True "
   ]
  },
  {
   "cell_type": "code",
   "execution_count": 3,
   "metadata": {},
   "outputs": [],
   "source": [
    "def validateInput1(val):\n",
    "    while True:\n",
    "            if not isFloat(val):\n",
    "                val = input('input must be a number')\n",
    "                continue\n",
    "            return float(val)"
   ]
  },
  {
   "cell_type": "code",
   "execution_count": 4,
   "metadata": {},
   "outputs": [],
   "source": [
    "def validateInput2(val):\n",
    "    while True:\n",
    "            if not isFloat(val):\n",
    "                val = input('input must be a number')\n",
    "                continue\n",
    "            elif isZero(val):\n",
    "                val = input('input must not be a zero')\n",
    "                continue\n",
    "            else:break\n",
    "    return float(val)"
   ]
  },
  {
   "cell_type": "code",
   "execution_count": 5,
   "metadata": {},
   "outputs": [
    {
     "name": "stdout",
     "output_type": "stream",
     "text": [
      "please input a numbera\n",
      "input must be a numbera\n",
      "input must be a number0\n",
      "input divide number4\n",
      "result is 0.0\n"
     ]
    }
   ],
   "source": [
    "\n",
    "valTmp1 = input('please input a number')\n",
    "val1 = validateInput1(valTmp1)\n",
    "\n",
    "valTmp2 = input('input divide number')\n",
    "val2 = validateInput2(valTmp2)\n",
    "\n",
    "print('result is {}'.format(val1/val2))"
   ]
  }
 ],
 "metadata": {
  "kernelspec": {
   "display_name": "Python 3",
   "language": "python",
   "name": "python3"
  },
  "language_info": {
   "codemirror_mode": {
    "name": "ipython",
    "version": 3
   },
   "file_extension": ".py",
   "mimetype": "text/x-python",
   "name": "python",
   "nbconvert_exporter": "python",
   "pygments_lexer": "ipython3",
   "version": "3.8.3"
  }
 },
 "nbformat": 4,
 "nbformat_minor": 4
}
