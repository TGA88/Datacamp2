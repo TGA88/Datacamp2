{
 "cells": [
  {
   "cell_type": "code",
   "execution_count": 1,
   "metadata": {},
   "outputs": [],
   "source": [
    "from functools import reduce\n",
    "#quiz11\n",
    "def minLength(num):\n",
    "    def validateLength():\n",
    "        val = input('กรุณาป้อนข้อความ')\n",
    "        while len(val) < num:\n",
    "            print('ข้อความต้องมีอย่างน้อย7 ตัวอักร')\n",
    "            val = input('กรุณาป้อนข้อความ')\n",
    "        return val\n",
    "    return validateLength\n",
    "\n",
    "def convert(val):\n",
    "        if c.islower():\n",
    "          return  c.upper()\n",
    "        else:\n",
    "          return  c.lower()\n",
    "    \n",
    "def oppositeString(vals):\n",
    "    vString = map(lambda item: item.upper() if item.islower() else item.lower() ,vals)\n",
    "    res = reduce(lambda res,item: res+item,vString)\n",
    "    return res    \n",
    "    \n",
    "def makeInput():\n",
    "    return minLength(7)\n"
   ]
  },
  {
   "cell_type": "code",
   "execution_count": 2,
   "metadata": {},
   "outputs": [
    {
     "name": "stdout",
     "output_type": "stream",
     "text": [
      "กรุณาป้อนข้อความabcdeFGhI\n",
      "ABCDEfgHi\n"
     ]
    }
   ],
   "source": [
    "validInput = makeInput()\n",
    "\n",
    "val = validInput()\n",
    "res = oppositeString(val)\n",
    "print(res)"
   ]
  }
 ],
 "metadata": {
  "kernelspec": {
   "display_name": "Python 3",
   "language": "python",
   "name": "python3"
  },
  "language_info": {
   "codemirror_mode": {
    "name": "ipython",
    "version": 3
   },
   "file_extension": ".py",
   "mimetype": "text/x-python",
   "name": "python",
   "nbconvert_exporter": "python",
   "pygments_lexer": "ipython3",
   "version": "3.8.3"
  }
 },
 "nbformat": 4,
 "nbformat_minor": 4
}
