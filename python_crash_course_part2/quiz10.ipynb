{
 "cells": [
  {
   "cell_type": "code",
   "execution_count": 1,
   "metadata": {},
   "outputs": [],
   "source": [
    "#10\n",
    "def validateInput(val):\n",
    "    while True:\n",
    "        if val <1000 or val >5000:\n",
    "            val = float(input('ราคาจะต้องอยู่ในช่วง 1000-5000: '))\n",
    "            continue\n",
    "        break\n",
    "    return val\n",
    "\n",
    "def percentDiscount(val):\n",
    "    dis = 0\n",
    "    if  val > 9000:\n",
    "        dis =0.3    \n",
    "    elif val > 4000:\n",
    "        dis=0.25\n",
    "    return dis\n",
    "\n",
    "Net = lambda price,discount: price-discount\n",
    "        \n",
    "def makeInput(fn):\n",
    "    def validInput(index):\n",
    "        val = float(input('price {}:'.format(index)))\n",
    "        return fn(val)\n",
    "    return validInput"
   ]
  },
  {
   "cell_type": "code",
   "execution_count": 2,
   "metadata": {},
   "outputs": [
    {
     "name": "stdout",
     "output_type": "stream",
     "text": [
      "price 1:5000\n",
      "price 2:5000\n",
      "price 3:5000\n",
      "price 4:5000\n",
      "ชำระด้วย crditcard: y/ny\n",
      "total amount for percent discount:15000.0\n",
      "total amount:5000.0\n",
      "discount:35.0% (standard:30.0% , extra by credit:5.0%), amount:1750.0\n",
      "netamount : 3250.0\n"
     ]
    }
   ],
   "source": [
    "validator = makeInput(validateInput)\n",
    "p1 = validator(1)\n",
    "p2 = validator(2)\n",
    "p3 = validator(3)\n",
    "p4 = validator(4)\n",
    "\n",
    "paidCr = input('ชำระด้วย crditcard: y/n')\n",
    "\n",
    "amount = p1+p2+p3\n",
    "percent=percentDiscount(amount) \n",
    "\n",
    "extra = 0\n",
    "if paidCr =='y':\n",
    "    extra=0.05\n",
    "netpercent = percent+extra\n",
    "\n",
    "discount = p4 * netpercent\n",
    "\n",
    "print('total amount for percent discount:{}'.format(amount))\n",
    "print('total amount:{}'.format(p4))\n",
    "print('discount:{}% (standard:{}% , extra by credit:{}%), amount:{}'.format(netpercent*100,percent*100,extra*100,discount))\n",
    "net = Net(p4,discount)\n",
    "print('netamount : {}'.format(net))"
   ]
  }
 ],
 "metadata": {
  "kernelspec": {
   "display_name": "Python 3",
   "language": "python",
   "name": "python3"
  },
  "language_info": {
   "codemirror_mode": {
    "name": "ipython",
    "version": 3
   },
   "file_extension": ".py",
   "mimetype": "text/x-python",
   "name": "python",
   "nbconvert_exporter": "python",
   "pygments_lexer": "ipython3",
   "version": "3.8.3"
  }
 },
 "nbformat": 4,
 "nbformat_minor": 4
}
