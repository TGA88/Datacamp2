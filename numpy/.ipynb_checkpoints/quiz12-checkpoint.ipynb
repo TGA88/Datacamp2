{
 "cells": [
  {
   "cell_type": "code",
   "execution_count": 8,
   "metadata": {},
   "outputs": [
    {
     "name": "stdout",
     "output_type": "stream",
     "text": [
      "[[ 92  56 100  82]\n",
      " [ 67  67  54  76]\n",
      " [ 63  82  90  52]\n",
      " [ 84  74  83  93]]\n",
      "transpose\n",
      "[[ 92  67  63  84]\n",
      " [ 56  67  82  74]\n",
      " [100  54  90  83]\n",
      " [ 82  76  52  93]]\n"
     ]
    }
   ],
   "source": [
    "#จงเขียนฟังก์ชั่นที่ random ตัวเลขแบบ int ในช่วง 50-100 โดยให้อยู่ในรูป Matrix 4x4 และ Transpose\n",
    "import numpy as np\n",
    "\n",
    "a = np.random.randint(50,101,(4,4))\n",
    "print(a)\n",
    "\n",
    "print('transpose')\n",
    "print(a.T)"
   ]
  }
 ],
 "metadata": {
  "kernelspec": {
   "display_name": "Python 3",
   "language": "python",
   "name": "python3"
  },
  "language_info": {
   "codemirror_mode": {
    "name": "ipython",
    "version": 3
   },
   "file_extension": ".py",
   "mimetype": "text/x-python",
   "name": "python",
   "nbconvert_exporter": "python",
   "pygments_lexer": "ipython3",
   "version": "3.8.3"
  }
 },
 "nbformat": 4,
 "nbformat_minor": 4
}
