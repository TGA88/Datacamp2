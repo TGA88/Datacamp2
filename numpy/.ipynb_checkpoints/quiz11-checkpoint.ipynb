{
 "cells": [
  {
   "cell_type": "code",
   "execution_count": 7,
   "metadata": {},
   "outputs": [
    {
     "name": "stdout",
     "output_type": "stream",
     "text": [
      "0.26394771065666145\n"
     ]
    }
   ],
   "source": [
    "#จงเขียนฟังก์ชั่น random ตัวเลขแบบ float ในช่วง 0-1 ขึ้นมา 1 ตัว\n",
    "\n",
    "import numpy as np\n",
    "\n",
    "num = np.random.rand()\n",
    "print(num)"
   ]
  }
 ],
 "metadata": {
  "kernelspec": {
   "display_name": "Python 3",
   "language": "python",
   "name": "python3"
  },
  "language_info": {
   "codemirror_mode": {
    "name": "ipython",
    "version": 3
   },
   "file_extension": ".py",
   "mimetype": "text/x-python",
   "name": "python",
   "nbconvert_exporter": "python",
   "pygments_lexer": "ipython3",
   "version": "3.8.3"
  }
 },
 "nbformat": 4,
 "nbformat_minor": 4
}
