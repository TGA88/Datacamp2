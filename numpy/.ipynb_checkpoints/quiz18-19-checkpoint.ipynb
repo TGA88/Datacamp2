{
 "cells": [
  {
   "cell_type": "code",
   "execution_count": 5,
   "metadata": {},
   "outputs": [
    {
     "name": "stdout",
     "output_type": "stream",
     "text": [
      "[[15 57 72 44 13]\n",
      " [93 74 27 71 74]\n",
      " [42 20 95 98 98]\n",
      " [19 53 33 47 44]\n",
      " [79 61 74 49 44]]\n",
      "[57, 72, 93, 74, 71, 74, 95, 98, 98, 53, 79, 61, 74]\n"
     ]
    }
   ],
   "source": [
    "# 18. จงเขียนโปรแกรมสุ่มเลขจำนวนเต็มในช่วง 10-100 ออกมาอยู่ใน matrix 5x5 และใช้ If-else เช็คทีละตัวว่าตัวใดบ้างที่มี\n",
    "# ค่ามากกว่า\n",
    "# 50 และปริ้นออกมา\n",
    "import numpy as np\n",
    "\n",
    "arr = np.random.randint(10,101,(5,5))\n",
    "print(arr)\n",
    "\n",
    "a = [i for i in arr.reshape(25) if i>50]\n",
    "print(a)"
   ]
  },
  {
   "cell_type": "code",
   "execution_count": 6,
   "metadata": {},
   "outputs": [
    {
     "name": "stdout",
     "output_type": "stream",
     "text": [
      "[57 72 44 93 74 71 74 42 95 98 98 53 47 44 79 61 74 49 44]\n"
     ]
    }
   ],
   "source": [
    "# 19 จงเขียนโปรแกรมสุ่มเลขจำนวนเต็มในช่วง 10-100 ออกมาอยู่ใน matrix 5x5 และใช้ conditional selection เช็คว่าตัว\n",
    "# ใดบ้างมีค่า\n",
    "\n",
    "# มากกว่า 40 นำมาใส่ List ที่สร้างใหม่ และปริ้นออกมา\n",
    "\n",
    "a19 = arr[arr>40]\n",
    "print(a19)"
   ]
  }
 ],
 "metadata": {
  "kernelspec": {
   "display_name": "Python 3",
   "language": "python",
   "name": "python3"
  },
  "language_info": {
   "codemirror_mode": {
    "name": "ipython",
    "version": 3
   },
   "file_extension": ".py",
   "mimetype": "text/x-python",
   "name": "python",
   "nbconvert_exporter": "python",
   "pygments_lexer": "ipython3",
   "version": "3.8.3"
  }
 },
 "nbformat": 4,
 "nbformat_minor": 4
}
