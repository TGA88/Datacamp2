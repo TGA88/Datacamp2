{
 "cells": [
  {
   "cell_type": "code",
   "execution_count": null,
   "metadata": {},
   "outputs": [],
   "source": [
    "# 20 เขียนโปรแกรมรับค่าจากผู้ใช้ให้ป้อนเลข 9 ตัว แต่ละตัวต้องไม่ซ้ำกันและมีค่าอยู่ในช่วง 10-100 นำเลข 9 ตัวนั้นมา\n",
    "# ทำเป็น matrix\n",
    "\n",
    "# 3x3 และ transport และหาเลขอยู่ตำแหน่งที่ (2,2)"
   ]
  },
  {
   "cell_type": "code",
   "execution_count": 3,
   "metadata": {},
   "outputs": [
    {
     "name": "stdout",
     "output_type": "stream",
     "text": [
      "ให้ป้อนเลข 1 10\n",
      "ให้ป้อนเลข 2 20\n",
      "ให้ป้อนเลข 3 30\n",
      "ให้ป้อนเลข 4 40\n",
      "ให้ป้อนเลข 5 50\n",
      "ให้ป้อนเลข 6 60\n",
      "ให้ป้อนเลข 7 70\n",
      "ให้ป้อนเลข 8 80\n",
      "ให้ป้อนเลข 9 0\n",
      "เลขต้องมีค่าอยู่ในช่วง 10-100\n",
      "ให้ป้อนเลข 9 1010\n",
      "เลขต้องมีค่าอยู่ในช่วง 10-100\n",
      "ให้ป้อนเลข 9 80\n",
      "ตัวต้องไม่ซ้ำกัน\n",
      "ให้ป้อนเลข 9 10\n",
      "ตัวต้องไม่ซ้ำกัน\n",
      "ให้ป้อนเลข 9 100\n",
      "[[ 10  20  30]\n",
      " [ 40  50  60]\n",
      " [ 70  80 100]]\n",
      "transpose\n",
      "[[ 10  40  70]\n",
      " [ 20  50  80]\n",
      " [ 30  60 100]]\n",
      "เลขอยู่ตำแหน่งที่ (2,2)\n",
      "100\n"
     ]
    }
   ],
   "source": [
    "import numpy as np\n",
    "def makeInput(cache):\n",
    "    def validateInput(index):\n",
    "        while True:\n",
    "            val = int(input('ให้ป้อนเลข {} '.format(index)))\n",
    "            if val < 10 or val > 100:\n",
    "                print('เลขต้องมีค่าอยู่ในช่วง 10-100')\n",
    "                continue\n",
    "            elif val in cache:\n",
    "                print('ตัวต้องไม่ซ้ำกัน')\n",
    "                continue\n",
    "            else:\n",
    "                cache.append(val)\n",
    "                break\n",
    "        return cache\n",
    "    return validateInput\n",
    "\n",
    "lst = []\n",
    "vInput = makeInput(lst)\n",
    "for i in range(9):\n",
    "    lst = vInput(i+1)\n",
    "mat = np.array(lst).reshape(3,3)\n",
    "print(mat)\n",
    "print('transpose')\n",
    "t = mat.T\n",
    "print(t)\n",
    "print('เลขอยู่ตำแหน่งที่ (2,2)')\n",
    "print(t[2,2])\n",
    "    "
   ]
  }
 ],
 "metadata": {
  "kernelspec": {
   "display_name": "Python 3",
   "language": "python",
   "name": "python3"
  },
  "language_info": {
   "codemirror_mode": {
    "name": "ipython",
    "version": 3
   },
   "file_extension": ".py",
   "mimetype": "text/x-python",
   "name": "python",
   "nbconvert_exporter": "python",
   "pygments_lexer": "ipython3",
   "version": "3.8.3"
  }
 },
 "nbformat": 4,
 "nbformat_minor": 4
}
