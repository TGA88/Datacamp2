{
 "cells": [
  {
   "cell_type": "code",
   "execution_count": 2,
   "metadata": {},
   "outputs": [
    {
     "name": "stdout",
     "output_type": "stream",
     "text": [
      "[5666.06570025 7892.6139439   470.41191795 3111.92079412 2645.53953964\n",
      " 7377.70545251 9170.66711659  414.30700546 5138.42203046 5722.98980665\n",
      " 4989.95516997  158.50654243  140.12925644 4533.8653738   227.62290486\n",
      "  262.18793295 9636.05566657 7484.57586602  863.00566358 5550.05610093]\n",
      "process time0.00055694580078125\n"
     ]
    }
   ],
   "source": [
    "import time\n",
    "#3 จงเขียน array ที่มีเป็นการ random ตัวเลข 20 ตัว แบบ float ค่าอยู่ในช่วง 10-99 แล้วนำแต่ละเลขยกกำลังสอง\n",
    "import numpy as np\n",
    "st1= time.time()\n",
    "arr = np.random.uniform(10,100,20) **2\n",
    "print(arr)\n",
    "sp1 = time.time()\n",
    "print('process time{}'.format(sp1-st1))"
   ]
  },
  {
   "cell_type": "code",
   "execution_count": 3,
   "metadata": {},
   "outputs": [
    {
     "name": "stdout",
     "output_type": "stream",
     "text": [
      "[1534.4800746249018, 2144.381340470609, 4792.957988814562, 7184.650581555707, 3686.4072674919103, 6015.816541222636, 989.0635011365072, 2907.9005836617966, 374.60204174823525, 1567.762648860251, 100.71082185647252, 1056.7500754426992, 1375.3388200904033, 236.07317680494396, 437.204607004685, 2717.6144687779174, 168.01734947589472, 6277.559210464631, 1840.774567433051, 8090.5974731797105]\n",
      "process time 0.0006659030914306641\n"
     ]
    }
   ],
   "source": [
    "# ทำเหมือนข้อ 3 แต่เขียนแบบ List comprehension\n",
    "import random\n",
    "st2 = time.time()\n",
    "arr1 = [random.uniform(10,100) **2 for i in range(20)]\n",
    "print(arr1)\n",
    "sp2=time.time()\n",
    "\n",
    "print('process time {}'.format(sp2-st2))"
   ]
  }
 ],
 "metadata": {
  "kernelspec": {
   "display_name": "Python 3",
   "language": "python",
   "name": "python3"
  },
  "language_info": {
   "codemirror_mode": {
    "name": "ipython",
    "version": 3
   },
   "file_extension": ".py",
   "mimetype": "text/x-python",
   "name": "python",
   "nbconvert_exporter": "python",
   "pygments_lexer": "ipython3",
   "version": "3.8.3"
  }
 },
 "nbformat": 4,
 "nbformat_minor": 4
}
