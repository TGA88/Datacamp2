{
 "cells": [
  {
   "cell_type": "code",
   "execution_count": 2,
   "metadata": {},
   "outputs": [
    {
     "name": "stdout",
     "output_type": "stream",
     "text": [
      "[6571.642724747163, 839.4058922616243, 5387.618406933069, 7796.332901809488, 7774.2179558431835, 2782.474329203703, 117.92705830249298, 5511.491165802105, 2934.1973469627333, 2106.7658953289247, 5447.3128420310295, 1471.5663124054518, 3499.2791893570093, 4538.914247331914, 9147.180391075412, 6257.763234697744, 358.2945642285579, 2393.0687361923624, 1433.2731934330843, 9597.342029140193]\n"
     ]
    }
   ],
   "source": [
    "# ทำเหมือนข้อ 3 แต่เขียนแบบ List comprehension\n",
    "import random\n",
    "\n",
    "arr1 = [random.uniform(10,100) **2 for i in range(20)]\n",
    "print(arr1)"
   ]
  }
 ],
 "metadata": {
  "kernelspec": {
   "display_name": "Python 3",
   "language": "python",
   "name": "python3"
  },
  "language_info": {
   "codemirror_mode": {
    "name": "ipython",
    "version": 3
   },
   "file_extension": ".py",
   "mimetype": "text/x-python",
   "name": "python",
   "nbconvert_exporter": "python",
   "pygments_lexer": "ipython3",
   "version": "3.8.3"
  }
 },
 "nbformat": 4,
 "nbformat_minor": 4
}
