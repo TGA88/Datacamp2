{
 "cells": [
  {
   "cell_type": "code",
   "execution_count": 16,
   "metadata": {},
   "outputs": [
    {
     "name": "stdout",
     "output_type": "stream",
     "text": [
      "[8142.13071576 8278.13339663 7963.59911767  735.08375293 2277.48733828\n",
      " 1904.05968304 6870.33127684 3106.44974717 6957.91086323 2051.46610127\n",
      " 5203.07429526 9469.53355509 6374.8070269   214.71644389 8121.9843984\n",
      " 1500.07827947 6983.51358592 7539.87463459 3379.02070769  140.42064976]\n"
     ]
    }
   ],
   "source": [
    "# จงเขียน array ที่มีเป็นการ random ตัวเลข 20 ตัว แบบ float ค่าอยู่ในช่วง 10-99 แล้วนำแต่ละเลขยกกำลังสอง\n",
    "import numpy as np\n",
    "\n",
    "arr = np.random.uniform(10,100,20) **2\n",
    "print(arr)"
   ]
  },
  {
   "cell_type": "code",
   "execution_count": null,
   "metadata": {},
   "outputs": [],
   "source": []
  }
 ],
 "metadata": {
  "kernelspec": {
   "display_name": "Python 3",
   "language": "python",
   "name": "python3"
  },
  "language_info": {
   "codemirror_mode": {
    "name": "ipython",
    "version": 3
   },
   "file_extension": ".py",
   "mimetype": "text/x-python",
   "name": "python",
   "nbconvert_exporter": "python",
   "pygments_lexer": "ipython3",
   "version": "3.8.3"
  }
 },
 "nbformat": 4,
 "nbformat_minor": 4
}
